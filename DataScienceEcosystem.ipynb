{
 "cells": [
  {
   "cell_type": "markdown",
   "id": "84ac9b74-712c-465a-9182-774e7caa0979",
   "metadata": {},
   "source": [
    "# Data Science Tools and Ecosystem"
   ]
  },
  {
   "cell_type": "markdown",
   "id": "87380f41-d210-4dd6-a5a3-482254a5ff7e",
   "metadata": {},
   "source": [
    "In this notebook, Data Science Tool an Ecosystem are summarized."
   ]
  },
  {
   "cell_type": "markdown",
   "id": "fb697df6-877c-4cfc-b59b-7de8c4fa5baf",
   "metadata": {},
   "source": [
    "## Author: Kris Svendsen\n",
    "\n",
    "**Objectives:**\n",
    "1. Popular Data Science Lanuages\n",
    "2. Data Science Tools\n",
    "3. Data Sciences Libraries\n",
    "4. Examples of arithmetic expressions in Python\n",
    "\n"
   ]
  },
  {
   "cell_type": "markdown",
   "id": "0d65d30b-22e3-41bc-ad04-36c6e992bb15",
   "metadata": {},
   "source": [
    "Some of the popular languages that Data Scientists use are:\n",
    "1. Python\n",
    "2. R\n",
    "3. SQL"
   ]
  },
  {
   "cell_type": "markdown",
   "id": "b4e5dbda-b2fb-4512-8ebf-ca28e3afa1a2",
   "metadata": {},
   "source": [
    "|Data Science Tools|\n",
    "|---|\n",
    "|Jupyter Notebooks|\n",
    "|RStudio|\n",
    "|Jupyter Labs|"
   ]
  },
  {
   "cell_type": "markdown",
   "id": "2141baae-f644-4f4e-a771-404a7d798d3f",
   "metadata": {},
   "source": [
    "Some of the commonly used libraries used by Data Scientists include:\n",
    "1. ggplot2\n",
    "2. Pandas\n",
    "3. Scikit-learn"
   ]
  },
  {
   "cell_type": "markdown",
   "id": "be5979c7-823f-4d61-9857-3b02c895d9db",
   "metadata": {},
   "source": [
    "### Below are a few examples of evaluating arithmetic expressions in Python"
   ]
  },
  {
   "cell_type": "code",
   "execution_count": 11,
   "id": "33ca0f71-5903-4497-83d4-7f27d9eadaeb",
   "metadata": {},
   "outputs": [
    {
     "data": {
      "text/plain": [
       "17"
      ]
     },
     "execution_count": 11,
     "metadata": {},
     "output_type": "execute_result"
    }
   ],
   "source": [
    "#This is a simple arithmetic expression to multiply then add integers\n",
    "(3*4)+5"
   ]
  },
  {
   "cell_type": "code",
   "execution_count": 13,
   "id": "9b75426f-5bb9-4c47-8a03-02be0476488d",
   "metadata": {},
   "outputs": [
    {
     "data": {
      "text/plain": [
       "3.3333333333333335"
      ]
     },
     "execution_count": 13,
     "metadata": {},
     "output_type": "execute_result"
    }
   ],
   "source": [
    "#This will convert 200 minutes to hours by dividing by 60\n",
    "200/60"
   ]
  },
  {
   "cell_type": "code",
   "execution_count": null,
   "id": "2baf3435-6c62-4671-8c15-4bef54524af3",
   "metadata": {},
   "outputs": [],
   "source": []
  }
 ],
 "metadata": {
  "kernelspec": {
   "display_name": "Python 3 (ipykernel)",
   "language": "python",
   "name": "python3"
  },
  "language_info": {
   "codemirror_mode": {
    "name": "ipython",
    "version": 3
   },
   "file_extension": ".py",
   "mimetype": "text/x-python",
   "name": "python",
   "nbconvert_exporter": "python",
   "pygments_lexer": "ipython3",
   "version": "3.11.7"
  }
 },
 "nbformat": 4,
 "nbformat_minor": 5
}
